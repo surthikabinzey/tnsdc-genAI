{
  "nbformat": 4,
  "nbformat_minor": 0,
  "metadata": {
    "colab": {
      "provenance": []
    },
    "kernelspec": {
      "name": "python3",
      "display_name": "Python 3"
    },
    "language_info": {
      "name": "python"
    }
  },
  "cells": [
    {
      "cell_type": "code",
      "execution_count": 4,
      "metadata": {
        "id": "CZyBElE9mQPv"
      },
      "outputs": [],
      "source": [
        "import numpy as np\n",
        "import tensorflow as tf\n",
        "import tensorflow_datasets as tfds\n",
        "import matplotlib.pyplot as plt\n",
        "gpus = tf.config.experimental.list_physical_devices('GPU')\n",
        "for gpu in gpus:\n",
        "    tf.config.experimental.set_memory_growth(gpu, True)"
      ]
    },
    {
      "cell_type": "code",
      "source": [
        "data = tfds.load('fashion_mnist', split='train')"
      ],
      "metadata": {
        "id": "QlWUCwt0m_V9"
      },
      "execution_count": 5,
      "outputs": []
    },
    {
      "cell_type": "code",
      "source": [
        "data.as_numpy_iterator().next().keys()"
      ],
      "metadata": {
        "colab": {
          "base_uri": "https://localhost:8080/"
        },
        "id": "blSGf3ajn6iZ",
        "outputId": "a1f05f21-0cbc-4361-9c4f-985383d455c5"
      },
      "execution_count": 6,
      "outputs": [
        {
          "output_type": "execute_result",
          "data": {
            "text/plain": [
              "dict_keys(['image', 'label'])"
            ]
          },
          "metadata": {},
          "execution_count": 6
        }
      ]
    },
    {
      "cell_type": "code",
      "source": [
        "dataiterator = data.as_numpy_iterator()"
      ],
      "metadata": {
        "id": "tTbUa6Y_n-2w"
      },
      "execution_count": 7,
      "outputs": []
    },
    {
      "cell_type": "code",
      "source": [
        "dataiterator.next()"
      ],
      "metadata": {
        "colab": {
          "base_uri": "https://localhost:8080/"
        },
        "id": "2Ebhv7q9oYHG",
        "outputId": "91554ab7-3203-47ef-953d-013bc1e15754"
      },
      "execution_count": 8,
      "outputs": [
        {
          "output_type": "execute_result",
          "data": {
            "text/plain": [
              "{'image': array([[[  0],\n",
              "         [  0],\n",
              "         [  0],\n",
              "         [  0],\n",
              "         [  0],\n",
              "         [  0],\n",
              "         [  0],\n",
              "         [  0],\n",
              "         [  0],\n",
              "         [ 18],\n",
              "         [ 77],\n",
              "         [227],\n",
              "         [227],\n",
              "         [208],\n",
              "         [210],\n",
              "         [225],\n",
              "         [216],\n",
              "         [ 85],\n",
              "         [ 32],\n",
              "         [  0],\n",
              "         [  0],\n",
              "         [  0],\n",
              "         [  0],\n",
              "         [  0],\n",
              "         [  0],\n",
              "         [  0],\n",
              "         [  0],\n",
              "         [  0]],\n",
              " \n",
              "        [[  0],\n",
              "         [  0],\n",
              "         [  0],\n",
              "         [  0],\n",
              "         [  0],\n",
              "         [  0],\n",
              "         [  0],\n",
              "         [ 61],\n",
              "         [100],\n",
              "         [ 97],\n",
              "         [ 80],\n",
              "         [ 57],\n",
              "         [117],\n",
              "         [227],\n",
              "         [238],\n",
              "         [115],\n",
              "         [ 49],\n",
              "         [ 78],\n",
              "         [106],\n",
              "         [108],\n",
              "         [ 71],\n",
              "         [  0],\n",
              "         [  0],\n",
              "         [  0],\n",
              "         [  0],\n",
              "         [  0],\n",
              "         [  0],\n",
              "         [  0]],\n",
              " \n",
              "        [[  0],\n",
              "         [  0],\n",
              "         [  0],\n",
              "         [  0],\n",
              "         [  0],\n",
              "         [  0],\n",
              "         [ 81],\n",
              "         [105],\n",
              "         [ 80],\n",
              "         [ 69],\n",
              "         [ 72],\n",
              "         [ 64],\n",
              "         [ 44],\n",
              "         [ 21],\n",
              "         [ 13],\n",
              "         [ 44],\n",
              "         [ 69],\n",
              "         [ 75],\n",
              "         [ 75],\n",
              "         [ 80],\n",
              "         [114],\n",
              "         [ 80],\n",
              "         [  0],\n",
              "         [  0],\n",
              "         [  0],\n",
              "         [  0],\n",
              "         [  0],\n",
              "         [  0]],\n",
              " \n",
              "        [[  0],\n",
              "         [  0],\n",
              "         [  0],\n",
              "         [  0],\n",
              "         [  0],\n",
              "         [ 26],\n",
              "         [ 92],\n",
              "         [ 69],\n",
              "         [ 68],\n",
              "         [ 75],\n",
              "         [ 75],\n",
              "         [ 71],\n",
              "         [ 74],\n",
              "         [ 83],\n",
              "         [ 75],\n",
              "         [ 77],\n",
              "         [ 78],\n",
              "         [ 74],\n",
              "         [ 74],\n",
              "         [ 83],\n",
              "         [ 77],\n",
              "         [108],\n",
              "         [ 34],\n",
              "         [  0],\n",
              "         [  0],\n",
              "         [  0],\n",
              "         [  0],\n",
              "         [  0]],\n",
              " \n",
              "        [[  0],\n",
              "         [  0],\n",
              "         [  0],\n",
              "         [  0],\n",
              "         [  0],\n",
              "         [ 55],\n",
              "         [ 92],\n",
              "         [ 69],\n",
              "         [ 74],\n",
              "         [ 74],\n",
              "         [ 71],\n",
              "         [ 71],\n",
              "         [ 77],\n",
              "         [ 69],\n",
              "         [ 66],\n",
              "         [ 75],\n",
              "         [ 74],\n",
              "         [ 77],\n",
              "         [ 80],\n",
              "         [ 80],\n",
              "         [ 78],\n",
              "         [ 94],\n",
              "         [ 63],\n",
              "         [  0],\n",
              "         [  0],\n",
              "         [  0],\n",
              "         [  0],\n",
              "         [  0]],\n",
              " \n",
              "        [[  0],\n",
              "         [  0],\n",
              "         [  0],\n",
              "         [  0],\n",
              "         [  0],\n",
              "         [ 63],\n",
              "         [ 95],\n",
              "         [ 66],\n",
              "         [ 68],\n",
              "         [ 72],\n",
              "         [ 72],\n",
              "         [ 69],\n",
              "         [ 72],\n",
              "         [ 74],\n",
              "         [ 74],\n",
              "         [ 74],\n",
              "         [ 75],\n",
              "         [ 75],\n",
              "         [ 77],\n",
              "         [ 80],\n",
              "         [ 77],\n",
              "         [106],\n",
              "         [ 61],\n",
              "         [  0],\n",
              "         [  0],\n",
              "         [  0],\n",
              "         [  0],\n",
              "         [  0]],\n",
              " \n",
              "        [[  0],\n",
              "         [  0],\n",
              "         [  0],\n",
              "         [  0],\n",
              "         [  0],\n",
              "         [ 80],\n",
              "         [108],\n",
              "         [ 71],\n",
              "         [ 69],\n",
              "         [ 72],\n",
              "         [ 71],\n",
              "         [ 69],\n",
              "         [ 72],\n",
              "         [ 75],\n",
              "         [ 75],\n",
              "         [ 72],\n",
              "         [ 72],\n",
              "         [ 75],\n",
              "         [ 78],\n",
              "         [ 72],\n",
              "         [ 85],\n",
              "         [128],\n",
              "         [ 64],\n",
              "         [  0],\n",
              "         [  0],\n",
              "         [  0],\n",
              "         [  0],\n",
              "         [  0]],\n",
              " \n",
              "        [[  0],\n",
              "         [  0],\n",
              "         [  0],\n",
              "         [  0],\n",
              "         [  0],\n",
              "         [ 88],\n",
              "         [120],\n",
              "         [ 75],\n",
              "         [ 74],\n",
              "         [ 77],\n",
              "         [ 75],\n",
              "         [ 72],\n",
              "         [ 77],\n",
              "         [ 74],\n",
              "         [ 74],\n",
              "         [ 77],\n",
              "         [ 78],\n",
              "         [ 83],\n",
              "         [ 83],\n",
              "         [ 66],\n",
              "         [111],\n",
              "         [123],\n",
              "         [ 78],\n",
              "         [  0],\n",
              "         [  0],\n",
              "         [  0],\n",
              "         [  0],\n",
              "         [  0]],\n",
              " \n",
              "        [[  0],\n",
              "         [  0],\n",
              "         [  0],\n",
              "         [  0],\n",
              "         [  0],\n",
              "         [ 85],\n",
              "         [134],\n",
              "         [ 74],\n",
              "         [ 85],\n",
              "         [ 69],\n",
              "         [ 75],\n",
              "         [ 75],\n",
              "         [ 74],\n",
              "         [ 75],\n",
              "         [ 74],\n",
              "         [ 75],\n",
              "         [ 75],\n",
              "         [ 81],\n",
              "         [ 75],\n",
              "         [ 61],\n",
              "         [151],\n",
              "         [115],\n",
              "         [ 91],\n",
              "         [ 12],\n",
              "         [  0],\n",
              "         [  0],\n",
              "         [  0],\n",
              "         [  0]],\n",
              " \n",
              "        [[  0],\n",
              "         [  0],\n",
              "         [  0],\n",
              "         [  0],\n",
              "         [ 10],\n",
              "         [ 85],\n",
              "         [153],\n",
              "         [ 83],\n",
              "         [ 80],\n",
              "         [ 68],\n",
              "         [ 77],\n",
              "         [ 75],\n",
              "         [ 74],\n",
              "         [ 75],\n",
              "         [ 74],\n",
              "         [ 75],\n",
              "         [ 77],\n",
              "         [ 80],\n",
              "         [ 68],\n",
              "         [ 61],\n",
              "         [162],\n",
              "         [122],\n",
              "         [ 78],\n",
              "         [  6],\n",
              "         [  0],\n",
              "         [  0],\n",
              "         [  0],\n",
              "         [  0]],\n",
              " \n",
              "        [[  0],\n",
              "         [  0],\n",
              "         [  0],\n",
              "         [  0],\n",
              "         [ 30],\n",
              "         [ 75],\n",
              "         [154],\n",
              "         [ 85],\n",
              "         [ 80],\n",
              "         [ 71],\n",
              "         [ 80],\n",
              "         [ 72],\n",
              "         [ 77],\n",
              "         [ 75],\n",
              "         [ 75],\n",
              "         [ 77],\n",
              "         [ 78],\n",
              "         [ 77],\n",
              "         [ 75],\n",
              "         [ 49],\n",
              "         [191],\n",
              "         [132],\n",
              "         [ 72],\n",
              "         [ 15],\n",
              "         [  0],\n",
              "         [  0],\n",
              "         [  0],\n",
              "         [  0]],\n",
              " \n",
              "        [[  0],\n",
              "         [  0],\n",
              "         [  0],\n",
              "         [  0],\n",
              "         [ 58],\n",
              "         [ 66],\n",
              "         [174],\n",
              "         [115],\n",
              "         [ 66],\n",
              "         [ 77],\n",
              "         [ 80],\n",
              "         [ 72],\n",
              "         [ 78],\n",
              "         [ 75],\n",
              "         [ 77],\n",
              "         [ 78],\n",
              "         [ 78],\n",
              "         [ 77],\n",
              "         [ 66],\n",
              "         [ 49],\n",
              "         [222],\n",
              "         [131],\n",
              "         [ 77],\n",
              "         [ 37],\n",
              "         [  0],\n",
              "         [  0],\n",
              "         [  0],\n",
              "         [  0]],\n",
              " \n",
              "        [[  0],\n",
              "         [  0],\n",
              "         [  0],\n",
              "         [  0],\n",
              "         [ 69],\n",
              "         [ 55],\n",
              "         [179],\n",
              "         [139],\n",
              "         [ 55],\n",
              "         [ 92],\n",
              "         [ 74],\n",
              "         [ 74],\n",
              "         [ 78],\n",
              "         [ 74],\n",
              "         [ 78],\n",
              "         [ 77],\n",
              "         [ 75],\n",
              "         [ 80],\n",
              "         [ 64],\n",
              "         [ 55],\n",
              "         [242],\n",
              "         [111],\n",
              "         [ 95],\n",
              "         [ 44],\n",
              "         [  0],\n",
              "         [  0],\n",
              "         [  0],\n",
              "         [  0]],\n",
              " \n",
              "        [[  0],\n",
              "         [  0],\n",
              "         [  0],\n",
              "         [  0],\n",
              "         [ 74],\n",
              "         [ 57],\n",
              "         [159],\n",
              "         [180],\n",
              "         [ 55],\n",
              "         [ 92],\n",
              "         [ 64],\n",
              "         [ 72],\n",
              "         [ 74],\n",
              "         [ 74],\n",
              "         [ 77],\n",
              "         [ 75],\n",
              "         [ 77],\n",
              "         [ 78],\n",
              "         [ 55],\n",
              "         [ 66],\n",
              "         [255],\n",
              "         [ 97],\n",
              "         [108],\n",
              "         [ 49],\n",
              "         [  0],\n",
              "         [  0],\n",
              "         [  0],\n",
              "         [  0]],\n",
              " \n",
              "        [[  0],\n",
              "         [  0],\n",
              "         [  0],\n",
              "         [  0],\n",
              "         [ 74],\n",
              "         [ 66],\n",
              "         [145],\n",
              "         [153],\n",
              "         [ 72],\n",
              "         [ 83],\n",
              "         [ 58],\n",
              "         [ 78],\n",
              "         [ 77],\n",
              "         [ 75],\n",
              "         [ 75],\n",
              "         [ 75],\n",
              "         [ 72],\n",
              "         [ 80],\n",
              "         [ 30],\n",
              "         [132],\n",
              "         [255],\n",
              "         [ 37],\n",
              "         [122],\n",
              "         [ 60],\n",
              "         [  0],\n",
              "         [  0],\n",
              "         [  0],\n",
              "         [  0]],\n",
              " \n",
              "        [[  0],\n",
              "         [  0],\n",
              "         [  0],\n",
              "         [  0],\n",
              "         [ 80],\n",
              "         [ 69],\n",
              "         [142],\n",
              "         [180],\n",
              "         [142],\n",
              "         [ 57],\n",
              "         [ 64],\n",
              "         [ 78],\n",
              "         [ 74],\n",
              "         [ 75],\n",
              "         [ 75],\n",
              "         [ 75],\n",
              "         [ 72],\n",
              "         [ 85],\n",
              "         [ 21],\n",
              "         [185],\n",
              "         [227],\n",
              "         [ 37],\n",
              "         [143],\n",
              "         [ 63],\n",
              "         [  0],\n",
              "         [  0],\n",
              "         [  0],\n",
              "         [  0]],\n",
              " \n",
              "        [[  0],\n",
              "         [  0],\n",
              "         [  0],\n",
              "         [  0],\n",
              "         [ 83],\n",
              "         [ 71],\n",
              "         [136],\n",
              "         [194],\n",
              "         [126],\n",
              "         [ 46],\n",
              "         [ 69],\n",
              "         [ 75],\n",
              "         [ 72],\n",
              "         [ 75],\n",
              "         [ 75],\n",
              "         [ 75],\n",
              "         [ 74],\n",
              "         [ 78],\n",
              "         [ 38],\n",
              "         [139],\n",
              "         [185],\n",
              "         [ 60],\n",
              "         [151],\n",
              "         [ 58],\n",
              "         [  0],\n",
              "         [  0],\n",
              "         [  0],\n",
              "         [  0]],\n",
              " \n",
              "        [[  0],\n",
              "         [  0],\n",
              "         [  0],\n",
              "         [  4],\n",
              "         [ 81],\n",
              "         [ 74],\n",
              "         [145],\n",
              "         [177],\n",
              "         [ 78],\n",
              "         [ 49],\n",
              "         [ 74],\n",
              "         [ 77],\n",
              "         [ 75],\n",
              "         [ 75],\n",
              "         [ 75],\n",
              "         [ 75],\n",
              "         [ 74],\n",
              "         [ 72],\n",
              "         [ 63],\n",
              "         [ 80],\n",
              "         [156],\n",
              "         [117],\n",
              "         [153],\n",
              "         [ 55],\n",
              "         [  0],\n",
              "         [  0],\n",
              "         [  0],\n",
              "         [  0]],\n",
              " \n",
              "        [[  0],\n",
              "         [  0],\n",
              "         [  0],\n",
              "         [ 10],\n",
              "         [ 80],\n",
              "         [ 72],\n",
              "         [157],\n",
              "         [163],\n",
              "         [ 61],\n",
              "         [ 55],\n",
              "         [ 75],\n",
              "         [ 77],\n",
              "         [ 75],\n",
              "         [ 77],\n",
              "         [ 75],\n",
              "         [ 75],\n",
              "         [ 75],\n",
              "         [ 77],\n",
              "         [ 71],\n",
              "         [ 60],\n",
              "         [ 98],\n",
              "         [156],\n",
              "         [132],\n",
              "         [ 58],\n",
              "         [  0],\n",
              "         [  0],\n",
              "         [  0],\n",
              "         [  0]],\n",
              " \n",
              "        [[  0],\n",
              "         [  0],\n",
              "         [  0],\n",
              "         [ 13],\n",
              "         [ 77],\n",
              "         [ 74],\n",
              "         [157],\n",
              "         [143],\n",
              "         [ 43],\n",
              "         [ 61],\n",
              "         [ 72],\n",
              "         [ 75],\n",
              "         [ 77],\n",
              "         [ 75],\n",
              "         [ 74],\n",
              "         [ 77],\n",
              "         [ 77],\n",
              "         [ 75],\n",
              "         [ 71],\n",
              "         [ 58],\n",
              "         [ 80],\n",
              "         [157],\n",
              "         [120],\n",
              "         [ 66],\n",
              "         [  0],\n",
              "         [  0],\n",
              "         [  0],\n",
              "         [  0]],\n",
              " \n",
              "        [[  0],\n",
              "         [  0],\n",
              "         [  0],\n",
              "         [ 18],\n",
              "         [ 81],\n",
              "         [ 74],\n",
              "         [156],\n",
              "         [114],\n",
              "         [ 35],\n",
              "         [ 72],\n",
              "         [ 71],\n",
              "         [ 75],\n",
              "         [ 78],\n",
              "         [ 72],\n",
              "         [ 66],\n",
              "         [ 80],\n",
              "         [ 78],\n",
              "         [ 77],\n",
              "         [ 75],\n",
              "         [ 64],\n",
              "         [ 63],\n",
              "         [165],\n",
              "         [119],\n",
              "         [ 68],\n",
              "         [  0],\n",
              "         [  0],\n",
              "         [  0],\n",
              "         [  0]],\n",
              " \n",
              "        [[  0],\n",
              "         [  0],\n",
              "         [  0],\n",
              "         [ 23],\n",
              "         [ 85],\n",
              "         [ 81],\n",
              "         [177],\n",
              "         [ 57],\n",
              "         [ 52],\n",
              "         [ 77],\n",
              "         [ 71],\n",
              "         [ 78],\n",
              "         [ 80],\n",
              "         [ 72],\n",
              "         [ 75],\n",
              "         [ 74],\n",
              "         [ 77],\n",
              "         [ 77],\n",
              "         [ 75],\n",
              "         [ 64],\n",
              "         [ 37],\n",
              "         [173],\n",
              "         [ 95],\n",
              "         [ 72],\n",
              "         [  0],\n",
              "         [  0],\n",
              "         [  0],\n",
              "         [  0]],\n",
              " \n",
              "        [[  0],\n",
              "         [  0],\n",
              "         [  0],\n",
              "         [ 26],\n",
              "         [ 81],\n",
              "         [ 86],\n",
              "         [160],\n",
              "         [ 20],\n",
              "         [ 75],\n",
              "         [ 77],\n",
              "         [ 77],\n",
              "         [ 80],\n",
              "         [ 78],\n",
              "         [ 80],\n",
              "         [ 89],\n",
              "         [ 78],\n",
              "         [ 81],\n",
              "         [ 83],\n",
              "         [ 80],\n",
              "         [ 74],\n",
              "         [ 20],\n",
              "         [177],\n",
              "         [ 77],\n",
              "         [ 74],\n",
              "         [  0],\n",
              "         [  0],\n",
              "         [  0],\n",
              "         [  0]],\n",
              " \n",
              "        [[  0],\n",
              "         [  0],\n",
              "         [  0],\n",
              "         [ 49],\n",
              "         [ 77],\n",
              "         [ 91],\n",
              "         [200],\n",
              "         [  0],\n",
              "         [ 83],\n",
              "         [ 95],\n",
              "         [ 86],\n",
              "         [ 88],\n",
              "         [ 88],\n",
              "         [ 89],\n",
              "         [ 88],\n",
              "         [ 89],\n",
              "         [ 88],\n",
              "         [ 83],\n",
              "         [ 89],\n",
              "         [ 86],\n",
              "         [  0],\n",
              "         [191],\n",
              "         [ 78],\n",
              "         [ 80],\n",
              "         [ 24],\n",
              "         [  0],\n",
              "         [  0],\n",
              "         [  0]],\n",
              " \n",
              "        [[  0],\n",
              "         [  0],\n",
              "         [  0],\n",
              "         [ 54],\n",
              "         [ 71],\n",
              "         [108],\n",
              "         [165],\n",
              "         [  0],\n",
              "         [ 24],\n",
              "         [ 57],\n",
              "         [ 52],\n",
              "         [ 57],\n",
              "         [ 60],\n",
              "         [ 60],\n",
              "         [ 60],\n",
              "         [ 63],\n",
              "         [ 63],\n",
              "         [ 77],\n",
              "         [ 89],\n",
              "         [ 52],\n",
              "         [  0],\n",
              "         [211],\n",
              "         [ 97],\n",
              "         [ 77],\n",
              "         [ 61],\n",
              "         [  0],\n",
              "         [  0],\n",
              "         [  0]],\n",
              " \n",
              "        [[  0],\n",
              "         [  0],\n",
              "         [  0],\n",
              "         [ 68],\n",
              "         [ 91],\n",
              "         [117],\n",
              "         [137],\n",
              "         [  0],\n",
              "         [  0],\n",
              "         [  0],\n",
              "         [  0],\n",
              "         [  0],\n",
              "         [  0],\n",
              "         [  0],\n",
              "         [  0],\n",
              "         [  0],\n",
              "         [  0],\n",
              "         [  0],\n",
              "         [  0],\n",
              "         [  0],\n",
              "         [ 18],\n",
              "         [216],\n",
              "         [ 94],\n",
              "         [ 97],\n",
              "         [ 57],\n",
              "         [  0],\n",
              "         [  0],\n",
              "         [  0]],\n",
              " \n",
              "        [[  0],\n",
              "         [  0],\n",
              "         [  0],\n",
              "         [ 54],\n",
              "         [115],\n",
              "         [105],\n",
              "         [185],\n",
              "         [  0],\n",
              "         [  0],\n",
              "         [  1],\n",
              "         [  0],\n",
              "         [  0],\n",
              "         [  0],\n",
              "         [  0],\n",
              "         [  0],\n",
              "         [  0],\n",
              "         [  0],\n",
              "         [  0],\n",
              "         [  0],\n",
              "         [  0],\n",
              "         [  0],\n",
              "         [153],\n",
              "         [ 78],\n",
              "         [106],\n",
              "         [ 37],\n",
              "         [  0],\n",
              "         [  0],\n",
              "         [  0]],\n",
              " \n",
              "        [[  0],\n",
              "         [  0],\n",
              "         [  0],\n",
              "         [ 18],\n",
              "         [ 61],\n",
              "         [ 41],\n",
              "         [103],\n",
              "         [  0],\n",
              "         [  0],\n",
              "         [  0],\n",
              "         [  0],\n",
              "         [  0],\n",
              "         [  0],\n",
              "         [  0],\n",
              "         [  0],\n",
              "         [  0],\n",
              "         [  0],\n",
              "         [  0],\n",
              "         [  0],\n",
              "         [  0],\n",
              "         [  0],\n",
              "         [106],\n",
              "         [ 47],\n",
              "         [ 69],\n",
              "         [ 23],\n",
              "         [  0],\n",
              "         [  0],\n",
              "         [  0]]], dtype=uint8),\n",
              " 'label': 2}"
            ]
          },
          "metadata": {},
          "execution_count": 8
        }
      ]
    },
    {
      "cell_type": "code",
      "source": [
        "fig, ax =plt.subplots(ncols= 4, figsize=(20, 20))\n",
        "for idx in range(4):\n",
        "    sample = dataiterator.next()\n",
        "    ax[idx].imshow(np.squeeze(sample['image']))\n",
        "    ax[idx].title.set_text(sample['label'])"
      ],
      "metadata": {
        "colab": {
          "base_uri": "https://localhost:8080/",
          "height": 374
        },
        "id": "eVKR9l4poj-3",
        "outputId": "8c13733f-f105-40ae-cff0-da688ee4424a"
      },
      "execution_count": 9,
      "outputs": [
        {
          "output_type": "display_data",
          "data": {
            "text/plain": [
              "<Figure size 2000x2000 with 4 Axes>"
            ],
            "image/png": "[encoded data removed]"
          },
          "metadata": {}
        }
      ]
    },
    {
      "cell_type": "code",
      "source": [
        "def scale_images(data):\n",
        "    image = data['image']\n",
        "    return image / 255"
      ],
      "metadata": {
        "id": "ikVEbPM4opwe"
      },
      "execution_count": 10,
      "outputs": []
    },
    {
      "cell_type": "code",
      "source": [
        "data = data.map(scale_images)\n",
        "data = data.cache()\n",
        "data = data.shuffle(60000)\n",
        "data = data.batch(128)\n",
        "data = data.prefetch(64)"
      ],
      "metadata": {
        "id": "GeklbeDfosbl"
      },
      "execution_count": 11,
      "outputs": []
    },
    {
      "cell_type": "code",
      "source": [
        "print(data)"
      ],
      "metadata": {
        "colab": {
          "base_uri": "https://localhost:8080/"
        },
        "id": "_cWBkGd_ovEG",
        "outputId": "f1a080dd-effe-4177-91f6-128d8a5bb507"
      },
      "execution_count": 12,
      "outputs": [
        {
          "output_type": "stream",
          "name": "stdout",
          "text": [
            "<_PrefetchDataset element_spec=TensorSpec(shape=(None, 28, 28, 1), dtype=tf.float32, name=None)>\n"
          ]
        }
      ]
    },
    {
      "cell_type": "code",
      "source": [
        "data.as_numpy_iterator().next().shape"
      ],
      "metadata": {
        "colab": {
          "base_uri": "https://localhost:8080/"
        },
        "id": "DbLI5xKeoyBw",
        "outputId": "7e7e9a2a-69de-48d3-e513-28269104d8d3"
      },
      "execution_count": 13,
      "outputs": [
        {
          "output_type": "execute_result",
          "data": {
            "text/plain": [
              "(128, 28, 28, 1)"
            ]
          },
          "metadata": {},
          "execution_count": 13
        }
      ]
    },
    {
      "cell_type": "code",
      "source": [
        "from tensorflow.keras.models import Sequential\n",
        "from tensorflow.keras.layers import Conv2D, Dense, Flatten, Reshape, LeakyReLU, Dropout, UpSampling2D"
      ],
      "metadata": {
        "id": "qSC9zDcho1Ag"
      },
      "execution_count": 14,
      "outputs": []
    },
    {
      "cell_type": "code",
      "source": [
        "def build_generator():\n",
        "    model = Sequential()\n",
        "\n",
        "    model.add(Dense(7*7*128, input_dim= 128))\n",
        "    model.add(LeakyReLU(0.2))\n",
        "    model.add(Reshape((7,7,128)))\n",
        "\n",
        "    model.add(UpSampling2D())\n",
        "    model.add(Conv2D(128, 5, padding= 'same'))\n",
        "    model.add(LeakyReLU(0.2))\n",
        "\n",
        "    model.add(UpSampling2D())\n",
        "    model.add(Conv2D(128, 5, padding= 'same'))\n",
        "    model.add(LeakyReLU(0.2))\n",
        "\n",
        "    model.add(Conv2D(128, 4, padding= 'same'))\n",
        "    model.add(LeakyReLU(0.2))\n",
        "\n",
        "    model.add(Conv2D(128, 4, padding= 'same'))\n",
        "    model.add(LeakyReLU(0.2))\n",
        "\n",
        "    model.add(Conv2D(1, 4, padding= 'same', activation= 'sigmoid'))\n",
        "\n",
        "    return model"
      ],
      "metadata": {
        "id": "P4UYs0Kro8h-"
      },
      "execution_count": 15,
      "outputs": []
    },
    {
      "cell_type": "code",
      "source": [
        "generator = build_generator()"
      ],
      "metadata": {
        "id": "udFSd7XnpBKb"
      },
      "execution_count": 16,
      "outputs": []
    },
    {
      "cell_type": "code",
      "source": [
        "generator.summary()"
      ],
      "metadata": {
        "colab": {
          "base_uri": "https://localhost:8080/"
        },
        "id": "UZd53JLnpD8P",
        "outputId": "33fb84a5-e849-4caf-f9ec-e9ea9ac7fdb5"
      },
      "execution_count": 17,
      "outputs": [
        {
          "output_type": "stream",
          "name": "stdout",
          "text": [
            "Model: \"sequential\"\n",
            "_________________________________________________________________\n",
            " Layer (type)                Output Shape              Param #   \n",
            "=================================================================\n",
            " dense (Dense)               (None, 6272)              809088    \n",
            "                                                                 \n",
            " leaky_re_lu (LeakyReLU)     (None, 6272)              0         \n",
            "                                                                 \n",
            " reshape (Reshape)           (None, 7, 7, 128)         0         \n",
            "                                                                 \n",
            " up_sampling2d (UpSampling2  (None, 14, 14, 128)       0         \n",
            " D)                                                              \n",
            "                                                                 \n",
            " conv2d (Conv2D)             (None, 14, 14, 128)       409728    \n",
            "                                                                 \n",
            " leaky_re_lu_1 (LeakyReLU)   (None, 14, 14, 128)       0         \n",
            "                                                                 \n",
            " up_sampling2d_1 (UpSamplin  (None, 28, 28, 128)       0         \n",
            " g2D)                                                            \n",
            "                                                                 \n",
            " conv2d_1 (Conv2D)           (None, 28, 28, 128)       409728    \n",
            "                                                                 \n",
            " leaky_re_lu_2 (LeakyReLU)   (None, 28, 28, 128)       0         \n",
            "                                                                 \n",
            " conv2d_2 (Conv2D)           (None, 28, 28, 128)       262272    \n",
            "                                                                 \n",
            " leaky_re_lu_3 (LeakyReLU)   (None, 28, 28, 128)       0         \n",
            "                                                                 \n",
            " conv2d_3 (Conv2D)           (None, 28, 28, 128)       262272    \n",
            "                                                                 \n",
            " leaky_re_lu_4 (LeakyReLU)   (None, 28, 28, 128)       0         \n",
            "                                                                 \n",
            " conv2d_4 (Conv2D)           (None, 28, 28, 1)         2049      \n",
            "                                                                 \n",
            "=================================================================\n",
            "Total params: 2155137 (8.22 MB)\n",
            "Trainable params: 2155137 (8.22 MB)\n",
            "Non-trainable params: 0 (0.00 Byte)\n",
            "_________________________________________________________________\n"
          ]
        }
      ]
    },
    {
      "cell_type": "code",
      "source": [
        "img = generator.predict(np.random.randn(4, 128, 1))"
      ],
      "metadata": {
        "colab": {
          "base_uri": "https://localhost:8080/"
        },
        "id": "YY9IjovWwjVR",
        "outputId": "25b747f4-0390-43a7-d5ec-3c93d7c59145"
      },
      "execution_count": 18,
      "outputs": [
        {
          "output_type": "stream",
          "name": "stdout",
          "text": [
            "1/1 [==============================] - 1s 546ms/step\n"
          ]
        }
      ]
    },
    {
      "cell_type": "code",
      "source": [
        "fig, ax = plt.subplots(ncols= 4, figsize=(20, 20))\n",
        "\n",
        "for idx, img in enumerate(img):\n",
        "    ax[idx].imshow(np.squeeze(img))\n",
        "    ax[idx].title.set_text(idx)"
      ],
      "metadata": {
        "colab": {
          "base_uri": "https://localhost:8080/",
          "height": 374
        },
        "id": "iI4_3ahLwlI6",
        "outputId": "0e954121-3586-430e-d7ea-bf8c05ac8d08"
      },
      "execution_count": 19,
      "outputs": [
        {
          "output_type": "display_data",
          "data": {
            "text/plain": [
              "<Figure size 2000x2000 with 4 Axes>"
            ],
            "image/png": "[encoded data removed]"
          },
          "metadata": {}
        }
      ]
    },
    {
      "cell_type": "code",
      "source": [
        "\n",
        "def build_discriminator():\n",
        "\n",
        "    model = Sequential()\n",
        "\n",
        "    model.add(Conv2D(32, 5, input_shape = (28, 28, 1)))\n",
        "    model.add(LeakyReLU(0.2))\n",
        "    model.add(Dropout(0.4))\n",
        "\n",
        "    model.add(Conv2D(64, 5))\n",
        "    model.add(LeakyReLU(0.2))\n",
        "    model.add(Dropout(0.4))\n",
        "\n",
        "    model.add(Conv2D(128, 5))\n",
        "    model.add(LeakyReLU(0.2))\n",
        "    model.add(Dropout(0.4))\n",
        "\n",
        "    model.add(Conv2D(256, 5))\n",
        "    model.add(LeakyReLU(0.2))\n",
        "    model.add(Dropout(0.4))\n",
        "\n",
        "    model.add(Flatten())\n",
        "    model.add(Dropout(0.4))\n",
        "    model.add(Dense(1, activation= 'sigmoid'))\n",
        "\n",
        "    return model"
      ],
      "metadata": {
        "id": "chL8_BH0wn8Y"
      },
      "execution_count": 20,
      "outputs": []
    },
    {
      "cell_type": "code",
      "source": [
        "\n",
        "discriminator = build_discriminator()"
      ],
      "metadata": {
        "id": "Oqg3a-PpwoqY"
      },
      "execution_count": 21,
      "outputs": []
    },
    {
      "cell_type": "code",
      "source": [
        "discriminator.summary()"
      ],
      "metadata": {
        "colab": {
          "base_uri": "https://localhost:8080/"
        },
        "id": "e8f-bdnswqu3",
        "outputId": "22f3bc1d-8c89-47b5-a7e1-dc18a31e72bf"
      },
      "execution_count": 22,
      "outputs": [
        {
          "output_type": "stream",
          "name": "stdout",
          "text": [
            "Model: \"sequential_1\"\n",
            "_________________________________________________________________\n",
            " Layer (type)                Output Shape              Param #   \n",
            "=================================================================\n",
            " conv2d_5 (Conv2D)           (None, 24, 24, 32)        832       \n",
            "                                                                 \n",
            " leaky_re_lu_5 (LeakyReLU)   (None, 24, 24, 32)        0         \n",
            "                                                                 \n",
            " dropout (Dropout)           (None, 24, 24, 32)        0         \n",
            "                                                                 \n",
            " conv2d_6 (Conv2D)           (None, 20, 20, 64)        51264     \n",
            "                                                                 \n",
            " leaky_re_lu_6 (LeakyReLU)   (None, 20, 20, 64)        0         \n",
            "                                                                 \n",
            " dropout_1 (Dropout)         (None, 20, 20, 64)        0         \n",
            "                                                                 \n",
            " conv2d_7 (Conv2D)           (None, 16, 16, 128)       204928    \n",
            "                                                                 \n",
            " leaky_re_lu_7 (LeakyReLU)   (None, 16, 16, 128)       0         \n",
            "                                                                 \n",
            " dropout_2 (Dropout)         (None, 16, 16, 128)       0         \n",
            "                                                                 \n",
            " conv2d_8 (Conv2D)           (None, 12, 12, 256)       819456    \n",
            "                                                                 \n",
            " leaky_re_lu_8 (LeakyReLU)   (None, 12, 12, 256)       0         \n",
            "                                                                 \n",
            " dropout_3 (Dropout)         (None, 12, 12, 256)       0         \n",
            "                                                                 \n",
            " flatten (Flatten)           (None, 36864)             0         \n",
            "                                                                 \n",
            " dropout_4 (Dropout)         (None, 36864)             0         \n",
            "                                                                 \n",
            " dense_1 (Dense)             (None, 1)                 36865     \n",
            "                                                                 \n",
            "=================================================================\n",
            "Total params: 1113345 (4.25 MB)\n",
            "Trainable params: 1113345 (4.25 MB)\n",
            "Non-trainable params: 0 (0.00 Byte)\n",
            "_________________________________________________________________\n"
          ]
        }
      ]
    },
    {
      "cell_type": "code",
      "source": [
        "\n",
        "img.shape"
      ],
      "metadata": {
        "colab": {
          "base_uri": "https://localhost:8080/"
        },
        "id": "hbXfxNcbwtNJ",
        "outputId": "f9fbe6ae-3d02-4b1e-8c4d-bf2904d668ff"
      },
      "execution_count": 23,
      "outputs": [
        {
          "output_type": "execute_result",
          "data": {
            "text/plain": [
              "(28, 28, 1)"
            ]
          },
          "metadata": {},
          "execution_count": 23
        }
      ]
    },
    {
      "cell_type": "code",
      "source": [
        "img = generator.predict(np.random.randn(4, 128, 1))\n"
      ],
      "metadata": {
        "colab": {
          "base_uri": "https://localhost:8080/"
        },
        "id": "UHsKX7G4ww8B",
        "outputId": "47d292ec-47b2-43ae-fcc4-7861b2891ca1"
      },
      "execution_count": 24,
      "outputs": [
        {
          "output_type": "stream",
          "name": "stdout",
          "text": [
            "1/1 [==============================] - 0s 138ms/step\n"
          ]
        }
      ]
    },
    {
      "cell_type": "code",
      "source": [
        "discriminator.predict(img)"
      ],
      "metadata": {
        "colab": {
          "base_uri": "https://localhost:8080/"
        },
        "id": "1qTSgz84wyhX",
        "outputId": "7b18e0f4-5eb1-4e54-bd3e-8c472badf4cb"
      },
      "execution_count": 25,
      "outputs": [
        {
          "output_type": "stream",
          "name": "stdout",
          "text": [
            "1/1 [==============================] - 0s 121ms/step\n"
          ]
        },
        {
          "output_type": "execute_result",
          "data": {
            "text/plain": [
              "array([[0.49128637],\n",
              "       [0.49116504],\n",
              "       [0.4912154 ],\n",
              "       [0.49114224]], dtype=float32)"
            ]
          },
          "metadata": {},
          "execution_count": 25
        }
      ]
    },
    {
      "cell_type": "code",
      "source": [
        "from tensorflow.keras.optimizers import Adam\n",
        "from tensorflow.keras.losses import BinaryCrossentropy"
      ],
      "metadata": {
        "id": "JbFSxLTEw0kw"
      },
      "execution_count": 26,
      "outputs": []
    },
    {
      "cell_type": "code",
      "source": [
        "g_opt = Adam(learning_rate= 0.0001)\n",
        "d_opt = Adam(learning_rate= 0.00001)\n",
        "g_loss = BinaryCrossentropy()\n",
        "d_loss = BinaryCrossentropy()"
      ],
      "metadata": {
        "id": "IQXde_dZw2WC"
      },
      "execution_count": 27,
      "outputs": []
    },
    {
      "cell_type": "code",
      "source": [
        "from tensorflow.keras.models import Model\n",
        "class imageGAN(Model):\n",
        "    def __init__(self, generator, discriminator, *args, **kwargs):\n",
        "        super().__init__(*args, **kwargs)\n",
        "\n",
        "        self.generator = generator\n",
        "        self.discriminator = discriminator\n",
        "\n",
        "    def compile(self, g_opt, d_opt, g_loss, d_loss, *args, **kwargs):\n",
        "\n",
        "        super().compile(*args, **kwargs)\n",
        "\n",
        "        self.g_opt = g_opt\n",
        "        self.d_opt = d_opt\n",
        "        self.g_loss = g_loss\n",
        "        self.d_loss = d_loss\n",
        "\n",
        "    def train_step(self, batch):\n",
        "        real_images = batch\n",
        "        fake_images = self.generator(tf.random.normal((128, 128, 1)), training= False)\n",
        "\n",
        "        #Training Discriminator\n",
        "        with tf.GradientTape() as d_tape:\n",
        "\n",
        "            yhat_real = self.discriminator(real_images, training= True)\n",
        "            yhat_fake = self.discriminator(fake_images, training= True)\n",
        "            yhat_realfake = tf.concat([yhat_real, yhat_fake], axis=0)\n",
        "\n",
        "            y_realfake = tf.concat([tf.zeros_like(yhat_real), tf.ones_like(yhat_fake)], axis=0)\n",
        "\n",
        "            noise_real = 0.15*tf.random.uniform(tf.shape(yhat_real))\n",
        "            noise_fake = -0.15*tf.random.uniform(tf.shape(yhat_fake))\n",
        "            y_realfake += tf.concat([noise_real, noise_fake], axis=0)\n",
        "\n",
        "            total_d_loss = self.d_loss(y_realfake, yhat_realfake)\n",
        "\n",
        "            d_grad = d_tape.gradient(total_d_loss, self.discriminator.trainable_variables)\n",
        "            self.d_opt.apply_gradients(zip(d_grad, self.discriminator.trainable_variables))\n",
        "\n",
        "        #Training Generator\n",
        "        with tf.GradientTape() as g_tape:\n",
        "\n",
        "            gen_images = self.generator(tf.random.normal((128, 128, 1)), training= True)\n",
        "\n",
        "            predicted_labels = self.discriminator(gen_images, training= False)\n",
        "\n",
        "            total_g_loss = self.g_loss(tf.zeros_like(predicted_labels), predicted_labels)\n",
        "\n",
        "        ggrad = g_tape.gradient(total_g_loss, self.generator.trainable_variables)\n",
        "        self.g_opt.apply_gradients(zip(ggrad, self.generator.trainable_variables))\n",
        "\n",
        "        return {\"d_loss \": total_d_loss, \"g_loss \": total_g_loss}"
      ],
      "metadata": {
        "id": "4q_iwE-Tw26S"
      },
      "execution_count": 28,
      "outputs": []
    },
    {
      "cell_type": "code",
      "source": [
        "imggan = imageGAN(generator, discriminator)"
      ],
      "metadata": {
        "id": "ENIN4zyAw6m8"
      },
      "execution_count": 29,
      "outputs": []
    },
    {
      "cell_type": "code",
      "source": [
        "imggan.compile(g_opt, d_opt, g_loss, d_loss)"
      ],
      "metadata": {
        "id": "2Z_6bbZhw8UG"
      },
      "execution_count": 30,
      "outputs": []
    },
    {
      "cell_type": "code",
      "source": [
        "import os\n",
        "from tensorflow.keras.preprocessing.image import array_to_img\n",
        "from tensorflow.keras.callbacks import Callback"
      ],
      "metadata": {
        "id": "lbz6iSzew-RU"
      },
      "execution_count": 31,
      "outputs": []
    },
    {
      "cell_type": "code",
      "source": [
        "class ModelMonitor(Callback):\n",
        "    def __init__(self, num_img=3, latent_dim= 128):\n",
        "        self.num_img = num_img\n",
        "        self.latent_dim = latent_dim\n",
        "\n",
        "    def on_epoch_end(self, epoch, logs= None):\n",
        "        random_latent_vectors = tf.random.uniform((self.num_img, self.latent_dim, 1))\n",
        "        generated_images = self.model.generator(random_latent_vectors)\n",
        "        generated_images *= 255\n",
        "        generated_images.numpy()\n",
        "        for i in range(self.num_img):\n",
        "            img = array_to_img(generated_images[i])\n",
        "            img.save(os.path.join(f'generated_img_{epoch}_{i}.png'))\n",
        "batch_size = 16\n",
        "steps_per_epoch = len(data) // batch_size\n",
        "\n",
        "\n"
      ],
      "metadata": {
        "id": "zCVqhKAIw_-Z"
      },
      "execution_count": 41,
      "outputs": []
    },
    {
      "cell_type": "code",
      "source": [
        "%%time\n",
        "hist = imggan.fit(data, epochs=100, batch_size=batch_size, steps_per_epoch=steps_per_epoch, callbacks=[ModelMonitor()])"
      ],
      "metadata": {
        "id": "Q9x2uPSFV4Se"
      },
      "execution_count": null,
      "outputs": []
    },
    {
      "cell_type": "code",
      "source": [
        "imgs = generator.predict(tf.random.normal((16, 128, 1)))\n"
      ],
      "metadata": {
        "id": "zNu6nmScxCLa",
        "colab": {
          "base_uri": "https://localhost:8080/"
        },
        "outputId": "66614c6b-a152-442b-dc45-1f6c1ac0f3c4"
      },
      "execution_count": 34,
      "outputs": [
        {
          "output_type": "stream",
          "name": "stdout",
          "text": [
            "1/1 [==============================] - 0s 476ms/step\n"
          ]
        }
      ]
    },
    {
      "cell_type": "code",
      "source": [
        "fig, ax = plt.subplots(ncols= 4, nrows=4, figsize=(10,10))\n",
        "for r in range(4):\n",
        "    for c in range(4):\n",
        "        ax[r][c].imshow(imgs[(r+1)*(c+1)-1])"
      ],
      "metadata": {
        "id": "8kV5NEclxCI8",
        "colab": {
          "base_uri": "https://localhost:8080/",
          "height": 833
        },
        "outputId": "03ed68bc-c3ac-45d5-85cf-68b41d018fbf"
      },
      "execution_count": 35,
      "outputs": [
        {
          "output_type": "display_data",
          "data": {
            "text/plain": [
              "<Figure size 1000x1000 with 16 Axes>"
            ],
            "image/png": "[encoded data removed]"
          },
          "metadata": {}
        }
      ]
    },
    {
      "cell_type": "code",
      "source": [
        "generator.save_weights('generator_weights.h5')"
      ],
      "metadata": {
        "id": "XzwB82BlxCF6"
      },
      "execution_count": 36,
      "outputs": []
    },
    {
      "cell_type": "code",
      "source": [
        "from tensorflow.keras.models import load_model\n",
        "loaded_model = build_generator()"
      ],
      "metadata": {
        "id": "ewEXZOF4xCDQ"
      },
      "execution_count": 37,
      "outputs": []
    },
    {
      "cell_type": "code",
      "source": [
        "loaded_model.compile()"
      ],
      "metadata": {
        "id": "8MMAu9WyxCAt"
      },
      "execution_count": 38,
      "outputs": []
    },
    {
      "cell_type": "code",
      "source": [
        "loaded_model.load_weights('generator_weights.h5')"
      ],
      "metadata": {
        "id": "bqpsh1nZxB-N"
      },
      "execution_count": 39,
      "outputs": []
    },
    {
      "cell_type": "code",
      "source": [
        "loaded_model_img = loaded_model.predict(tf.random.normal((16, 128, 1)))\n",
        "fig, ax = plt.subplots(ncols= 4, nrows=4, figsize=(10,10))\n",
        "for r in range(4):\n",
        "    for c in range(4):\n",
        "        ax[r][c].imshow(loaded_model_img[(r+1)*(c+1)-1])"
      ],
      "metadata": {
        "id": "sft_VJCwxB7v",
        "colab": {
          "base_uri": "https://localhost:8080/",
          "height": 850
        },
        "outputId": "0397ea11-79ed-46ab-9806-683945d711c8"
      },
      "execution_count": 40,
      "outputs": [
        {
          "output_type": "stream",
          "name": "stdout",
          "text": [
            "1/1 [==============================] - 1s 542ms/step\n"
          ]
        },
        {
          "output_type": "display_data",
          "data": {
            "text/plain": [
              "<Figure size 1000x1000 with 16 Axes>"
            ],
            "image/png": "[encoded data removed]"
          },
          "metadata": {}
        }
      ]
    },
    {
      "cell_type": "code",
      "source": [],
      "metadata": {
        "id": "uODmQz6ixB42"
      },
      "execution_count": 40,
      "outputs": []
    }
  ]
}